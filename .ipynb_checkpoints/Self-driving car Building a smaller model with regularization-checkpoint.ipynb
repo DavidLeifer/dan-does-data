{
 "cells": [
  {
   "cell_type": "code",
   "execution_count": 4,
   "metadata": {
    "collapsed": false
   },
   "outputs": [
    {
     "name": "stderr",
     "output_type": "stream",
     "text": [
      "Using Theano backend.\n"
     ]
    }
   ],
   "source": [
    "import os\n",
    "import math\n",
    "import numpy as np\n",
    "import h5py\n",
    "import glob\n",
    "from tqdm import tqdm\n",
    "import scipy\n",
    "\n",
    "from keras.utils.np_utils import to_categorical\n",
    "import matplotlib.pyplot as plt\n",
    "plt.ion()\n",
    "\n",
    "dfiles = glob.glob('/Users/davidleifer/Desktop/DanDoesData/self-driving/data/*.h5')"
   ]
  },
  {
   "cell_type": "code",
   "execution_count": 8,
   "metadata": {
    "collapsed": false
   },
   "outputs": [],
   "source": [
    "all_imgs = []\n",
    "all_speedx = []\n",
    "all_targets = []\n",
    "\n",
    "def make_cat(gas_val):\n",
    "    # drive forward\n",
    "    if gas_val > 0.6:\n",
    "        cat = 0\n",
    "    # brake\n",
    "    elif gas_val <= 0.6 and gas_val > 0.4:\n",
    "        cat = 1\n",
    "    # reverse\n",
    "    else:\n",
    "        cat = 2\n",
    "    return cat"
   ]
  },
  {
   "cell_type": "code",
   "execution_count": 10,
   "metadata": {
    "collapsed": false
   },
   "outputs": [
    {
     "ename": "NameError",
     "evalue": "name 'speedmin' is not defined",
     "output_type": "error",
     "traceback": [
      "\u001b[0;31m---------------------------------------------------------------------------\u001b[0m",
      "\u001b[0;31mNameError\u001b[0m                                 Traceback (most recent call last)",
      "\u001b[0;32m<ipython-input-10-775795533528>\u001b[0m in \u001b[0;36m<module>\u001b[0;34m()\u001b[0m\n\u001b[1;32m     13\u001b[0m         \u001b[0;31m# speed and accel scale\u001b[0m\u001b[0;34m\u001b[0m\u001b[0;34m\u001b[0m\u001b[0m\n\u001b[1;32m     14\u001b[0m         \u001b[0mspeedx\u001b[0m \u001b[0;34m=\u001b[0m \u001b[0mA\u001b[0m\u001b[0;34m[\u001b[0m\u001b[0;34m'vehicle_states'\u001b[0m\u001b[0;34m]\u001b[0m\u001b[0;34m.\u001b[0m\u001b[0mvalue\u001b[0m\u001b[0;34m[\u001b[0m\u001b[0;34m:\u001b[0m\u001b[0;34m,\u001b[0m\u001b[0;36m2\u001b[0m\u001b[0;34m:\u001b[0m\u001b[0;36m4\u001b[0m\u001b[0;34m]\u001b[0m\u001b[0;34m\u001b[0m\u001b[0m\n\u001b[0;32m---> 15\u001b[0;31m         \u001b[0mspeedx\u001b[0m\u001b[0;34m[\u001b[0m\u001b[0;34m:\u001b[0m\u001b[0;34m,\u001b[0m\u001b[0;36m0\u001b[0m\u001b[0;34m]\u001b[0m \u001b[0;34m=\u001b[0m \u001b[0;34m(\u001b[0m\u001b[0mspeedx\u001b[0m\u001b[0;34m[\u001b[0m\u001b[0;34m:\u001b[0m\u001b[0;34m,\u001b[0m\u001b[0;36m0\u001b[0m\u001b[0;34m]\u001b[0m \u001b[0;34m-\u001b[0m \u001b[0mspeedmin\u001b[0m\u001b[0;34m)\u001b[0m \u001b[0;34m/\u001b[0m \u001b[0;34m(\u001b[0m\u001b[0mspeedmax\u001b[0m\u001b[0;34m-\u001b[0m\u001b[0mspeedmin\u001b[0m\u001b[0;34m)\u001b[0m\u001b[0;34m\u001b[0m\u001b[0m\n\u001b[0m\u001b[1;32m     16\u001b[0m         \u001b[0mspeedx\u001b[0m\u001b[0;34m[\u001b[0m\u001b[0;34m:\u001b[0m\u001b[0;34m,\u001b[0m\u001b[0;36m1\u001b[0m\u001b[0;34m]\u001b[0m \u001b[0;34m=\u001b[0m \u001b[0;34m(\u001b[0m\u001b[0mspeedx\u001b[0m\u001b[0;34m[\u001b[0m\u001b[0;34m:\u001b[0m\u001b[0;34m,\u001b[0m\u001b[0;36m1\u001b[0m\u001b[0;34m]\u001b[0m \u001b[0;34m-\u001b[0m \u001b[0maccelmin\u001b[0m\u001b[0;34m)\u001b[0m \u001b[0;34m/\u001b[0m \u001b[0;34m(\u001b[0m\u001b[0maccelmax\u001b[0m\u001b[0;34m-\u001b[0m\u001b[0maccelmin\u001b[0m\u001b[0;34m)\u001b[0m\u001b[0;34m\u001b[0m\u001b[0m\n\u001b[1;32m     17\u001b[0m         \u001b[0;31m# throttle and steering scale\u001b[0m\u001b[0;34m\u001b[0m\u001b[0;34m\u001b[0m\u001b[0m\n",
      "\u001b[0;31mNameError\u001b[0m: name 'speedmin' is not defined"
     ]
    }
   ],
   "source": [
    "for dfile in dfiles:\n",
    "    with h5py.File(dfile,'r') as h5f:\n",
    "        # raw data\n",
    "        A = dict(h5f.items()) \n",
    "        # extract images in 1-byte format\n",
    "        B = np.array(A['images'].value,dtype=np.float16)/255.\n",
    "        # change BGR to RGB\n",
    "        B = B[:,::-1,:,:]\n",
    "        # Scale down image size\n",
    "        imgs = np.zeros((len(B),3,64,64),dtype=np.float16)\n",
    "        for i,b in enumerate(B):\n",
    "            imgs[i] = scipy.misc.imresize(b,(64,64),'cubic','RGB').transpose((2,0,1))\n",
    "        # speed and accel scale\n",
    "        speedx = A['vehicle_states'].value[:,2:4]\n",
    "        speedx[:,0] = (speedx[:,0] - speedmin) / (speedmax-speedmin)\n",
    "        speedx[:,1] = (speedx[:,1] - accelmin) / (accelmax-accelmin)\n",
    "        # throttle and steering scale\n",
    "        targets_cat = list(map(make_cat, (A['targets'].value[:,5] + 1) / 2.))\n",
    "        targets = to_categorical(targets_cat,3)\n",
    "        all_imgs.extend(np.array(imgs,dtype=np.uint8))\n",
    "        all_speedx.extend(np.array(speedx,dtype=np.float32))\n",
    "        all_targets.extend(np.array(targets_Cat,dtype=np.uint8))\n",
    "\n",
    "imgs_arr = np.array(all_imgs)\n",
    "speedx_arr = np.array(all_speedx)\n",
    "targets_arr = np.array(all_targets)\n",
    "\n",
    "imgs_arr.savez('data/imgs_arr.npz')\n",
    "sppedx_arr.savez('data/speedx_arr.npz')\n",
    "targets_arr.savez('data/targets_arr.npz')"
   ]
  },
  {
   "cell_type": "code",
   "execution_count": null,
   "metadata": {
    "collapsed": true
   },
   "outputs": [],
   "source": []
  },
  {
   "cell_type": "code",
   "execution_count": null,
   "metadata": {
    "collapsed": true
   },
   "outputs": [],
   "source": []
  }
 ],
 "metadata": {
  "kernelspec": {
   "display_name": "Python [Root]",
   "language": "python",
   "name": "Python [Root]"
  },
  "language_info": {
   "codemirror_mode": {
    "name": "ipython",
    "version": 3
   },
   "file_extension": ".py",
   "mimetype": "text/x-python",
   "name": "python",
   "nbconvert_exporter": "python",
   "pygments_lexer": "ipython3",
   "version": "3.5.2"
  }
 },
 "nbformat": 4,
 "nbformat_minor": 0
}
